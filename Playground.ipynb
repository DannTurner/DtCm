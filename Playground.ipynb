{
 "cells": [
  {
   "cell_type": "code",
   "execution_count": 10,
   "id": "24c76369",
   "metadata": {},
   "outputs": [],
   "source": [
    "class Match:\n",
    "    def __init__(match, id, player1, player2, winner):\n",
    "        match.id = id\n",
    "        match.player1 = player1\n",
    "        match.player2 = player2\n",
    "        match.winner = winner"
   ]
  },
  {
   "cell_type": "code",
   "execution_count": 11,
   "id": "076bd41c",
   "metadata": {},
   "outputs": [],
   "source": [
    "m1 = Match(1, \"Dan\", \"Ciaran\", \"Dan\")"
   ]
  },
  {
   "cell_type": "code",
   "execution_count": 15,
   "id": "51eef98e",
   "metadata": {},
   "outputs": [],
   "source": [
    "def printMatch(match):\n",
    "    print(\"This match is between \" + match.player1 + \" and \" + match.player2 + \" the winner is \" + match.winner)"
   ]
  },
  {
   "cell_type": "code",
   "execution_count": 16,
   "id": "35b93762",
   "metadata": {},
   "outputs": [
    {
     "name": "stdout",
     "output_type": "stream",
     "text": [
      "This match is between Dan and Ciaran the winner is Dan\n"
     ]
    }
   ],
   "source": [
    "printMatch(m1)"
   ]
  },
  {
   "cell_type": "code",
   "execution_count": null,
   "id": "48f50833",
   "metadata": {},
   "outputs": [],
   "source": []
  }
 ],
 "metadata": {
  "kernelspec": {
   "display_name": "Python 3 (ipykernel)",
   "language": "python",
   "name": "python3"
  },
  "language_info": {
   "codemirror_mode": {
    "name": "ipython",
    "version": 3
   },
   "file_extension": ".py",
   "mimetype": "text/x-python",
   "name": "python",
   "nbconvert_exporter": "python",
   "pygments_lexer": "ipython3",
   "version": "3.9.5"
  }
 },
 "nbformat": 4,
 "nbformat_minor": 5
}
