{
 "cells": [
  {
   "cell_type": "code",
   "execution_count": 45,
   "id": "24c76369",
   "metadata": {},
   "outputs": [],
   "source": [
    "import DBcm\n",
    "import pprint\n",
    "\n",
    "config = {\n",
    "    \"host\": \"127.0.0.1\",\n",
    "    \"database\": \"leagueTracker2\",\n",
    "    \"user\": \"leagueAdmin\",\n",
    "    \"password\": \"trackerPass\",\n",
    "}\n",
    "\n",
    "SQL_unplayedMatches = \"select * from matchdetails where status = 'Not Played'\"\n",
    "SQL_appendMatch = \"update matchdetails set Winner = %s, status ='Played' where MatchID = %s\"\n",
    "SQL_createPLayer = \"insert into players \"\n",
    "SQL_orderedLeague = \"select * from player order by LeaguePoints desc\""
   ]
  },
  {
   "cell_type": "code",
   "execution_count": 10,
   "id": "076bd41c",
   "metadata": {},
   "outputs": [],
   "source": [
    "def leagueTable():\n",
    "    with DBcm.UseDatabase(config) as db:\n",
    "        try:\n",
    "            db.execute(SQL_orderedLeague)\n",
    "            data = db.fetchall()\n",
    "        except DBcm.SQLError as err:\n",
    "            print(\"Your query broke:\", str(err))\n",
    "    \n",
    "    leagueTable = data\n",
    "    return leagueTable"
   ]
  },
  {
   "cell_type": "code",
   "execution_count": 15,
   "id": "51eef98e",
   "metadata": {},
   "outputs": [],
   "source": [
    "def unplayedMatches():\n",
    "    with DBcm.UseDatabase(config) as db:\n",
    "        try:\n",
    "            db.execute(SQL_unplayedMatches)\n",
    "            data = db.fetchall()\n",
    "        except DBcm.SQLError as err:\n",
    "            print('Your query broke:', str(err))\n",
    "\n",
    "    unplayed = data\n",
    "    return unplayed"
   ]
  },
  {
   "cell_type": "code",
   "execution_count": 43,
   "id": "35b93762",
   "metadata": {},
   "outputs": [],
   "source": [
    "def appendMatch(winner, mId):\n",
    "    with DBcm.UseDatabase(config) as db:\n",
    "        try:\n",
    "            db.execute(SQL_appendMatch,(\n",
    "                winner,\n",
    "                mId,\n",
    "                )\n",
    "            )\n",
    "        except DBcm.SQLError as err:\n",
    "            print(\"Your query broke:\", str(err))"
   ]
  },
  {
   "cell_type": "code",
   "execution_count": 31,
   "id": "48f50833",
   "metadata": {},
   "outputs": [],
   "source": [
    "mId = 20\n",
    "winner = \"Dan Turner\""
   ]
  },
  {
   "cell_type": "code",
   "execution_count": 46,
   "id": "5638d8f1",
   "metadata": {},
   "outputs": [],
   "source": [
    "appendMatch(winner, mId)"
   ]
  },
  {
   "cell_type": "code",
   "execution_count": 48,
   "id": "ea2c1d37",
   "metadata": {},
   "outputs": [
    {
     "name": "stdout",
     "output_type": "stream",
     "text": [
      "[(15, 'Tong Niu', 11, 4, 1, 3, 'n', None), (9, 'Danny Brennan', 9, 3, 1, 3, 'n', None), (6, 'Ming Ho Choy (Milo)', 7, 2, 3, 3, 'n', None), (11, 'Jack Dardis', 7, 3, 2, 1, 'n', None), (12, 'Kah Loon Kong (Alex)', 6, 2, None, 2, 'n', None), (4, 'Dan Turner', 4, None, None, 4, 'n', None), (14, 'Keith Woodhouse', 4, 2, 1, None, 'n', None), (21, 'Josh Dempsey', 4, 1, 1, 2, 'n', None), (8, 'Sin Chun Hei (Jeremy)', 2, 1, 2, None, 'n', None), (19, 'Ryan McEvoy', 2, None, 1, 2, 'n', None), (3, 'Ciaran Maye', 1, None, None, 1, 'n', None), (13, 'Ying Li', 1, None, 1, 1, 'n', None), (17, 'Manny', 1, None, 1, 1, 'n', None), (20, 'Erin Rakhman-kidd', 1, None, 1, 1, 'n', None), (5, 'Tommy Drury', 0, None, None, None, 'n', None), (7, \"Sean O' Reilly\", 0, None, None, None, 'n', None), (10, 'Steven Scully', 0, None, 2, None, 'n', None), (16, 'Wojciech', 0, None, 1, None, 'n', None)]\n"
     ]
    }
   ],
   "source": [
    "table = leagueTable()\n",
    "print(table)"
   ]
  }
 ],
 "metadata": {
  "kernelspec": {
   "display_name": "Python 3 (ipykernel)",
   "language": "python",
   "name": "python3"
  },
  "language_info": {
   "codemirror_mode": {
    "name": "ipython",
    "version": 3
   },
   "file_extension": ".py",
   "mimetype": "text/x-python",
   "name": "python",
   "nbconvert_exporter": "python",
   "pygments_lexer": "ipython3",
   "version": "3.9.5"
  }
 },
 "nbformat": 4,
 "nbformat_minor": 5
}
