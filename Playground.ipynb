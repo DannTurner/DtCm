{
 "cells": [
  {
   "cell_type": "code",
   "execution_count": 4,
   "id": "24c76369",
   "metadata": {},
   "outputs": [],
   "source": [
    "import DBcm\n",
    "import pprint\n",
    "\n",
    "config = {\n",
    "    \"host\": \"redtosh.ddns.net\",\n",
    "    \"database\": \"leagueTracker\",\n",
    "    \"user\": \"leagueAdmin\",\n",
    "    \"password\": \"trackerPass\",\n",
    "}\n",
    "\n",
    "SQL_playerList = \"select StudentName from player\"\n",
    "SQL_unplayedMatches = \"select * from matchdetails where status = 'Not Played'\"\n",
    "SQL_unplayedMatchesFiltered = \"select * from matchdetails where (Status = 'Not Played' and Player1 = 'Ciaran Maye') or (Status = 'Not Played' and Player2 = 'Ciaran Maye')\"\n",
    "SQL_appendMatch = \"update matchdetails set Winner = %s, status ='Played' where MatchID = %s\"\n",
    "SQL_createPLayer = \"insert into players \"\n",
    "SQL_orderedLeague = \"select * from player order by LeaguePoints desc\""
   ]
  },
  {
   "cell_type": "code",
   "execution_count": 5,
   "id": "e20938ff",
   "metadata": {},
   "outputs": [
    {
     "name": "stdout",
     "output_type": "stream",
     "text": [
      "['Ciaran Maye', 'Dan Turner', 'Tommy Drury', 'Ming Ho Choy (Milo)', \"Sean O' Reilly\", 'Sin Chun Hei (Jeremy)', 'Danny Brennan', 'Steven Scully', 'Jack Dardis', 'Kah Loon Kong (Alex)', 'Ying Li', 'Keith Woodhouse', 'Tong Niu', 'Wojciech', 'Manny', 'Ryan McEvoy', 'Erin Rakhman-kidd', 'Josh Dempsey', 'Sean Quinlan', 'Robert Lapken', '  Derick Udeagha']\n"
     ]
    }
   ],
   "source": [
    "with DBcm.UseDatabase(config) as db:\n",
    "    try:\n",
    "        db.execute(SQL_playerList)\n",
    "        data = db.fetchall()\n",
    "    except DBcm.SQLError as err:\n",
    "        print(\"Your query broke:\", str(err))\n",
    "    \n",
    "    playerList = []\n",
    "    for e in data:\n",
    "        playerList.append(e[0])\n",
    "\n",
    "print(playerList)"
   ]
  },
  {
   "cell_type": "code",
   "execution_count": null,
   "id": "ea2c1d37",
   "metadata": {},
   "outputs": [],
   "source": []
  },
  {
   "cell_type": "code",
   "execution_count": null,
   "id": "2b7c18b0",
   "metadata": {},
   "outputs": [],
   "source": []
  },
  {
   "cell_type": "code",
   "execution_count": null,
   "id": "af047d47",
   "metadata": {},
   "outputs": [],
   "source": []
  },
  {
   "cell_type": "code",
   "execution_count": null,
   "id": "0e646c47",
   "metadata": {},
   "outputs": [],
   "source": []
  }
 ],
 "metadata": {
  "kernelspec": {
   "display_name": "Python 3 (ipykernel)",
   "language": "python",
   "name": "python3"
  },
  "language_info": {
   "codemirror_mode": {
    "name": "ipython",
    "version": 3
   },
   "file_extension": ".py",
   "mimetype": "text/x-python",
   "name": "python",
   "nbconvert_exporter": "python",
   "pygments_lexer": "ipython3",
   "version": "3.9.7"
  }
 },
 "nbformat": 4,
 "nbformat_minor": 5
}
