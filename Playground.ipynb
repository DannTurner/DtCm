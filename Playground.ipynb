{
 "cells": [
  {
   "cell_type": "code",
   "execution_count": 26,
   "id": "24c76369",
   "metadata": {},
   "outputs": [],
   "source": [
    "import DBcm\n",
    "import pprint\n",
    "\n",
    "config = {\n",
    "    \"host\": \"127.0.0.1\",\n",
    "    \"database\": \"leagueTracker2\",\n",
    "    \"user\": \"leagueAdmin\",\n",
    "    \"password\": \"trackerPass\",\n",
    "}\n",
    "\n",
    "SQL_unplayedMatches = \"select * from matchdetails where status = 'Not Played'\"\n",
    "SQL_appendMatch = \"update matchdetails where MatchID = '%s' set Winner = '%s' & set Status ='Played'\"\n",
    "SQL_createPLayer = \"insert into players \"\n",
    "SQL_orderedLeague = \"select * from player order by LeaguePoints desc\""
   ]
  },
  {
   "cell_type": "code",
   "execution_count": 10,
   "id": "076bd41c",
   "metadata": {},
   "outputs": [],
   "source": [
    "def leagueTable():\n",
    "    with DBcm.UseDatabase(config) as db:\n",
    "        try:\n",
    "            db.execute(SQL_orderedLeague)\n",
    "            data = db.fetchall()\n",
    "        except DBcm.SQLError as err:\n",
    "            print(\"Your query broke:\", str(err))\n",
    "    \n",
    "    leagueTable = data\n",
    "    return leagueTable"
   ]
  },
  {
   "cell_type": "code",
   "execution_count": 15,
   "id": "51eef98e",
   "metadata": {},
   "outputs": [],
   "source": [
    "def unplayedMatches():\n",
    "    with DBcm.UseDatabase(config) as db:\n",
    "        try:\n",
    "            db.execute(SQL_unplayedMatches)\n",
    "            data = db.fetchall()\n",
    "        except DBcm.SQLError as err:\n",
    "            print('Your query broke:', str(err))\n",
    "\n",
    "    unplayed = data\n",
    "    return unplayed"
   ]
  },
  {
   "cell_type": "code",
   "execution_count": 23,
   "id": "35b93762",
   "metadata": {},
   "outputs": [],
   "source": [
    "def appendMatch(mId, winner):\n",
    "    with DBcm.UseDatabase(config) as db:\n",
    "        try:\n",
    "            db.execute(SQL_appendMatch,(\n",
    "                mId,\n",
    "                winner,\n",
    "                )\n",
    "            )\n",
    "        except DBcm.SQLError as err:\n",
    "            print(\"Your query broke:\", str(err))"
   ]
  },
  {
   "cell_type": "code",
   "execution_count": 27,
   "id": "48f50833",
   "metadata": {},
   "outputs": [],
   "source": [
    "mId = 20\n",
    "winner = \"Dan Turner\""
   ]
  },
  {
   "cell_type": "code",
   "execution_count": 28,
   "id": "5638d8f1",
   "metadata": {},
   "outputs": [
    {
     "ename": "SQLError",
     "evalue": "1064 (42000): You have an error in your SQL syntax; check the manual that corresponds to your MariaDB server version for the right syntax to use near 'where MatchID = '20' set Winner = ''Dan Turner'' & set Status ='Played'' at line 1",
     "output_type": "error",
     "traceback": [
      "\u001b[0;31m---------------------------------------------------------------------------\u001b[0m",
      "\u001b[0;31mMySQLInterfaceError\u001b[0m                       Traceback (most recent call last)",
      "\u001b[0;32m~/miniconda3/lib/python3.9/site-packages/mysql/connector/connection_cext.py\u001b[0m in \u001b[0;36mcmd_query\u001b[0;34m(self, query, raw, buffered, raw_as_string)\u001b[0m\n\u001b[1;32m    516\u001b[0m                 \u001b[0mquery\u001b[0m \u001b[0;34m=\u001b[0m \u001b[0mquery\u001b[0m\u001b[0;34m.\u001b[0m\u001b[0mencode\u001b[0m\u001b[0;34m(\u001b[0m\u001b[0;34m'utf-8'\u001b[0m\u001b[0;34m)\u001b[0m\u001b[0;34m\u001b[0m\u001b[0;34m\u001b[0m\u001b[0m\n\u001b[0;32m--> 517\u001b[0;31m             self._cmysql.query(query,\n\u001b[0m\u001b[1;32m    518\u001b[0m                                \u001b[0mraw\u001b[0m\u001b[0;34m=\u001b[0m\u001b[0mraw\u001b[0m\u001b[0;34m,\u001b[0m \u001b[0mbuffered\u001b[0m\u001b[0;34m=\u001b[0m\u001b[0mbuffered\u001b[0m\u001b[0;34m,\u001b[0m\u001b[0;34m\u001b[0m\u001b[0;34m\u001b[0m\u001b[0m\n",
      "\u001b[0;31mMySQLInterfaceError\u001b[0m: You have an error in your SQL syntax; check the manual that corresponds to your MariaDB server version for the right syntax to use near 'where MatchID = '20' set Winner = ''Dan Turner'' & set Status ='Played'' at line 1",
      "\nDuring handling of the above exception, another exception occurred:\n",
      "\u001b[0;31mProgrammingError\u001b[0m                          Traceback (most recent call last)",
      "\u001b[0;32m/tmp/ipykernel_4334/3468821836.py\u001b[0m in \u001b[0;36mappendMatch\u001b[0;34m(mId, winner)\u001b[0m\n\u001b[1;32m      3\u001b[0m         \u001b[0;32mtry\u001b[0m\u001b[0;34m:\u001b[0m\u001b[0;34m\u001b[0m\u001b[0;34m\u001b[0m\u001b[0m\n\u001b[0;32m----> 4\u001b[0;31m             db.execute(SQL_appendMatch,(\n\u001b[0m\u001b[1;32m      5\u001b[0m                 \u001b[0mmId\u001b[0m\u001b[0;34m,\u001b[0m\u001b[0;34m\u001b[0m\u001b[0;34m\u001b[0m\u001b[0m\n",
      "\u001b[0;32m~/miniconda3/lib/python3.9/site-packages/mysql/connector/cursor_cext.py\u001b[0m in \u001b[0;36mexecute\u001b[0;34m(self, operation, params, multi)\u001b[0m\n\u001b[1;32m    269\u001b[0m         \u001b[0;32mtry\u001b[0m\u001b[0;34m:\u001b[0m\u001b[0;34m\u001b[0m\u001b[0;34m\u001b[0m\u001b[0m\n\u001b[0;32m--> 270\u001b[0;31m             result = self._cnx.cmd_query(stmt, raw=self._raw,\n\u001b[0m\u001b[1;32m    271\u001b[0m                                          \u001b[0mbuffered\u001b[0m\u001b[0;34m=\u001b[0m\u001b[0mself\u001b[0m\u001b[0;34m.\u001b[0m\u001b[0m_buffered\u001b[0m\u001b[0;34m,\u001b[0m\u001b[0;34m\u001b[0m\u001b[0;34m\u001b[0m\u001b[0m\n",
      "\u001b[0;32m~/miniconda3/lib/python3.9/site-packages/mysql/connector/connection_cext.py\u001b[0m in \u001b[0;36mcmd_query\u001b[0;34m(self, query, raw, buffered, raw_as_string)\u001b[0m\n\u001b[1;32m    521\u001b[0m         \u001b[0;32mexcept\u001b[0m \u001b[0mMySQLInterfaceError\u001b[0m \u001b[0;32mas\u001b[0m \u001b[0mexc\u001b[0m\u001b[0;34m:\u001b[0m\u001b[0;34m\u001b[0m\u001b[0;34m\u001b[0m\u001b[0m\n\u001b[0;32m--> 522\u001b[0;31m             raise errors.get_mysql_exception(exc.errno, msg=exc.msg,\n\u001b[0m\u001b[1;32m    523\u001b[0m                                              sqlstate=exc.sqlstate)\n",
      "\u001b[0;31mProgrammingError\u001b[0m: 1064 (42000): You have an error in your SQL syntax; check the manual that corresponds to your MariaDB server version for the right syntax to use near 'where MatchID = '20' set Winner = ''Dan Turner'' & set Status ='Played'' at line 1",
      "\nDuring handling of the above exception, another exception occurred:\n",
      "\u001b[0;31mSQLError\u001b[0m                                  Traceback (most recent call last)",
      "\u001b[0;32m/tmp/ipykernel_4334/1809254102.py\u001b[0m in \u001b[0;36m<module>\u001b[0;34m\u001b[0m\n\u001b[0;32m----> 1\u001b[0;31m \u001b[0mappendMatch\u001b[0m\u001b[0;34m(\u001b[0m\u001b[0mmId\u001b[0m\u001b[0;34m,\u001b[0m \u001b[0mwinner\u001b[0m\u001b[0;34m)\u001b[0m\u001b[0;34m\u001b[0m\u001b[0;34m\u001b[0m\u001b[0m\n\u001b[0m",
      "\u001b[0;32m/tmp/ipykernel_4334/3468821836.py\u001b[0m in \u001b[0;36mappendMatch\u001b[0;34m(mId, winner)\u001b[0m\n\u001b[1;32m      8\u001b[0m             )\n\u001b[1;32m      9\u001b[0m         \u001b[0;32mexcept\u001b[0m \u001b[0mDBcm\u001b[0m\u001b[0;34m.\u001b[0m\u001b[0mSQLError\u001b[0m \u001b[0;32mas\u001b[0m \u001b[0merr\u001b[0m\u001b[0;34m:\u001b[0m\u001b[0;34m\u001b[0m\u001b[0;34m\u001b[0m\u001b[0m\n\u001b[0;32m---> 10\u001b[0;31m             \u001b[0mprint\u001b[0m\u001b[0;34m(\u001b[0m\u001b[0;34m\"Your query broke:\"\u001b[0m\u001b[0;34m,\u001b[0m \u001b[0mstr\u001b[0m\u001b[0;34m(\u001b[0m\u001b[0merr\u001b[0m\u001b[0;34m)\u001b[0m\u001b[0;34m)\u001b[0m\u001b[0;34m\u001b[0m\u001b[0;34m\u001b[0m\u001b[0m\n\u001b[0m",
      "\u001b[0;32m~/miniconda3/lib/python3.9/site-packages/DBcm.py\u001b[0m in \u001b[0;36m__exit__\u001b[0;34m(self, exc_type, exc_value, exc_traceback)\u001b[0m\n\u001b[1;32m     87\u001b[0m         \u001b[0mself\u001b[0m\u001b[0;34m.\u001b[0m\u001b[0mconn\u001b[0m\u001b[0;34m.\u001b[0m\u001b[0mclose\u001b[0m\u001b[0;34m(\u001b[0m\u001b[0;34m)\u001b[0m\u001b[0;34m\u001b[0m\u001b[0;34m\u001b[0m\u001b[0m\n\u001b[1;32m     88\u001b[0m         \u001b[0;32mif\u001b[0m \u001b[0mexc_type\u001b[0m \u001b[0;32mis\u001b[0m \u001b[0mmysql\u001b[0m\u001b[0;34m.\u001b[0m\u001b[0mconnector\u001b[0m\u001b[0;34m.\u001b[0m\u001b[0merrors\u001b[0m\u001b[0;34m.\u001b[0m\u001b[0mProgrammingError\u001b[0m\u001b[0;34m:\u001b[0m\u001b[0;34m\u001b[0m\u001b[0;34m\u001b[0m\u001b[0m\n\u001b[0;32m---> 89\u001b[0;31m             \u001b[0;32mraise\u001b[0m \u001b[0mSQLError\u001b[0m\u001b[0;34m(\u001b[0m\u001b[0mexc_value\u001b[0m\u001b[0;34m)\u001b[0m\u001b[0;34m\u001b[0m\u001b[0;34m\u001b[0m\u001b[0m\n\u001b[0m\u001b[1;32m     90\u001b[0m         \u001b[0;32melif\u001b[0m \u001b[0mexc_type\u001b[0m\u001b[0;34m:\u001b[0m\u001b[0;34m\u001b[0m\u001b[0;34m\u001b[0m\u001b[0m\n\u001b[1;32m     91\u001b[0m             \u001b[0;32mraise\u001b[0m \u001b[0mexc_type\u001b[0m\u001b[0;34m(\u001b[0m\u001b[0mexc_value\u001b[0m\u001b[0;34m)\u001b[0m\u001b[0;34m\u001b[0m\u001b[0;34m\u001b[0m\u001b[0m\n",
      "\u001b[0;31mSQLError\u001b[0m: 1064 (42000): You have an error in your SQL syntax; check the manual that corresponds to your MariaDB server version for the right syntax to use near 'where MatchID = '20' set Winner = ''Dan Turner'' & set Status ='Played'' at line 1"
     ]
    }
   ],
   "source": [
    "appendMatch(mId, winner)"
   ]
  },
  {
   "cell_type": "code",
   "execution_count": null,
   "id": "ea2c1d37",
   "metadata": {},
   "outputs": [],
   "source": []
  }
 ],
 "metadata": {
  "kernelspec": {
   "display_name": "Python 3 (ipykernel)",
   "language": "python",
   "name": "python3"
  },
  "language_info": {
   "codemirror_mode": {
    "name": "ipython",
    "version": 3
   },
   "file_extension": ".py",
   "mimetype": "text/x-python",
   "name": "python",
   "nbconvert_exporter": "python",
   "pygments_lexer": "ipython3",
   "version": "3.9.5"
  }
 },
 "nbformat": 4,
 "nbformat_minor": 5
}
