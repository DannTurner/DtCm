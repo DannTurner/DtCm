{
 "cells": [
  {
   "cell_type": "code",
   "execution_count": 6,
   "id": "24c76369",
   "metadata": {},
   "outputs": [],
   "source": [
    "import DBcm\n",
    "import pprint\n",
    "\n",
    "config = {\n",
    "    \"host\": \"redtosh.ddns.net\",\n",
    "    \"database\": \"leagueTracker\",\n",
    "    \"user\": \"leagueAdmin\",\n",
    "    \"password\": \"trackerPass\",\n",
    "}\n",
    "\n",
    "SQL_unplayedMatches = \"select * from matchdetails where status = 'Not Played'\"\n",
    "SQL_unplayedMatchesFiltered = \"select * from matchdetails where (Status = 'Not Played' and Player1 = 'Ciaran Maye') or (Status = 'Not Played' and Player2 = 'Ciaran Maye')\"\n",
    "SQL_appendMatch = \"update matchdetails set Winner = %s, status ='Played' where MatchID = %s\"\n",
    "SQL_createPLayer = \"insert into players \"\n",
    "SQL_orderedLeague = \"select * from player order by LeaguePoints desc\""
   ]
  },
  {
   "cell_type": "code",
   "execution_count": 7,
   "id": "e20938ff",
   "metadata": {},
   "outputs": [],
   "source": [
    "   with DBcm.UseDatabase(config) as db:\n",
    "        try:\n",
    "            db.execute(SQL_unplayedMatchesFiltered)\n",
    "            data = db.fetchall()\n",
    "        except DBcm.SQLError as err:\n",
    "            print(\"Your query broke:\", str(err))"
   ]
  },
  {
   "cell_type": "code",
   "execution_count": 8,
   "id": "ea2c1d37",
   "metadata": {},
   "outputs": [
    {
     "name": "stdout",
     "output_type": "stream",
     "text": [
      "[(20, 'Ciaran Maye', 'Dan Turner', None, 'Not Played'), (21, 'Ciaran Maye', 'Tommy Drury', None, 'Not Played'), (23, 'Ciaran Maye', \"Sean O' Reilly\", None, 'Not Played'), (24, 'Ciaran Maye', 'Sin Chun Hei (Jeremy)', None, 'Not Played'), (25, 'Ciaran Maye', 'Danny Brennan', None, 'Not Played'), (26, 'Ciaran Maye', 'Steven Scully', None, 'Not Played'), (27, 'Ciaran Maye', 'Jack Dardis', None, 'Not Played'), (29, 'Ciaran Maye', 'Ying Li', None, 'Not Played'), (30, 'Ciaran Maye', 'Keith Woodhouse', None, 'Not Played'), (31, 'Ciaran Maye', 'Tong Niu', None, 'Not Played'), (32, 'Ciaran Maye', 'Wojciech', None, 'Not Played'), (33, 'Ciaran Maye', 'Manny', None, 'Not Played'), (141, 'Ryan McEvoy', 'Ciaran Maye', None, 'Not Played'), (157, 'Erin Rakhman-kidd', 'Ciaran Maye', None, 'Not Played'), (192, 'Sean Quinlan', 'Ciaran Maye', None, 'Not Played'), (231, '  Derick Udeagha', 'Ciaran Maye', None, 'Not Played')]\n"
     ]
    }
   ],
   "source": [
    "print(data)"
   ]
  },
  {
   "cell_type": "code",
   "execution_count": 11,
   "id": "2b7c18b0",
   "metadata": {},
   "outputs": [
    {
     "name": "stdout",
     "output_type": "stream",
     "text": [
      "['Dan Turner', 'Tommy Drury', \"Sean O' Reilly\", 'Sin Chun Hei (Jeremy)', 'Danny Brennan', 'Steven Scully', 'Jack Dardis', 'Ying Li', 'Keith Woodhouse', 'Tong Niu', 'Wojciech', 'Manny', 'Ryan McEvoy', 'Erin Rakhman-kidd', 'Sean Quinlan', '  Derick Udeagha']\n"
     ]
    }
   ],
   "source": [
    "returnlist = []\n",
    "for g in data:\n",
    "    if g[1] == 'Ciaran Maye':\n",
    "        returnlist.append(g[2])\n",
    "    else:\n",
    "        returnlist.append(g[1])\n",
    "\n",
    "print(returnlist)"
   ]
  }
 ],
 "metadata": {
  "kernelspec": {
   "display_name": "Python 3 (ipykernel)",
   "language": "python",
   "name": "python3"
  },
  "language_info": {
   "codemirror_mode": {
    "name": "ipython",
    "version": 3
   },
   "file_extension": ".py",
   "mimetype": "text/x-python",
   "name": "python",
   "nbconvert_exporter": "python",
   "pygments_lexer": "ipython3",
   "version": "3.9.7"
  }
 },
 "nbformat": 4,
 "nbformat_minor": 5
}
